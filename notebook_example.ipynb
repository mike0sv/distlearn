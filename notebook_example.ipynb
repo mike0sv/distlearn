{
 "cells": [
  {
   "cell_type": "code",
   "execution_count": null,
   "metadata": {
    "collapsed": true
   },
   "outputs": [],
   "source": [
    "# Distlearn Jupyter example"
   ]
  },
  {
   "cell_type": "code",
   "execution_count": 3,
   "metadata": {
    "collapsed": true
   },
   "outputs": [],
   "source": [
    "from __future__ import print_function"
   ]
  },
  {
   "cell_type": "code",
   "execution_count": 4,
   "metadata": {
    "collapsed": false
   },
   "outputs": [],
   "source": [
    "import client"
   ]
  },
  {
   "cell_type": "code",
   "execution_count": 5,
   "metadata": {
    "collapsed": false
   },
   "outputs": [],
   "source": [
    "#reload(client)"
   ]
  },
  {
   "cell_type": "code",
   "execution_count": 6,
   "metadata": {
    "collapsed": false
   },
   "outputs": [],
   "source": [
    "from sklearn.datasets import load_iris\n",
    "from sklearn.cross_validation import train_test_split\n",
    "iris = load_iris()\n",
    "X = iris.data\n",
    "Y = iris.target\n",
    "X_train, X_test, y_train, y_test = train_test_split(X, Y, test_size=0.33, random_state=42)"
   ]
  },
  {
   "cell_type": "code",
   "execution_count": 7,
   "metadata": {
    "collapsed": false
   },
   "outputs": [
    {
     "name": "stdout",
     "output_type": "stream",
     "text": [
      "[2016-05-11 01:53:17,943] [INFO] This is client mike\n"
     ]
    },
    {
     "name": "stderr",
     "output_type": "stream",
     "text": [
      "INFO:client:This is client mike\n"
     ]
    },
    {
     "name": "stdout",
     "output_type": "stream",
     "text": [
      "[2016-05-11 01:53:17,947] [INFO] Connected to master\n"
     ]
    },
    {
     "name": "stderr",
     "output_type": "stream",
     "text": [
      "INFO:client:Connected to master\n"
     ]
    }
   ],
   "source": [
    "c = client.Client(\"mike\")\n",
    "c.send_data('iris_train', {'data': X_train, 'target': y_train})\n",
    "c.send_data('iris_test', {'data': X_test, 'target': y_test})"
   ]
  },
  {
   "cell_type": "code",
   "execution_count": 8,
   "metadata": {
    "collapsed": false
   },
   "outputs": [
    {
     "name": "stdout",
     "output_type": "stream",
     "text": [
      "0 0\n"
     ]
    }
   ],
   "source": [
    "from sklearn.linear_model import LogisticRegression\n",
    "from sklearn.metrics import mean_squared_error\n",
    "from dl_utils import Task\n",
    "lr = LogisticRegression(C=1., penalty='l1')\n",
    "task = Task(data='iris_train', description='LR for iris', test_data='iris_test', estimator=lr, \n",
    "            type='fit_predict', result='score', scoring=mean_squared_error)\n",
    "task_id = c.send_task(task)\n",
    "print(task_id, task.id)"
   ]
  },
  {
   "cell_type": "code",
   "execution_count": 9,
   "metadata": {
    "collapsed": false
   },
   "outputs": [
    {
     "data": {
      "text/plain": [
       "0.02"
      ]
     },
     "execution_count": 9,
     "metadata": {},
     "output_type": "execute_result"
    }
   ],
   "source": [
    "result = c.collect_task(task.id)\n",
    "result"
   ]
  },
  {
   "cell_type": "code",
   "execution_count": 10,
   "metadata": {
    "collapsed": false
   },
   "outputs": [
    {
     "data": {
      "text/plain": [
       "0.02"
      ]
     },
     "execution_count": 10,
     "metadata": {},
     "output_type": "execute_result"
    }
   ],
   "source": [
    "result = c.send_task(task, async=False)\n",
    "result"
   ]
  },
  {
   "cell_type": "code",
   "execution_count": 11,
   "metadata": {
    "collapsed": false
   },
   "outputs": [
    {
     "data": {
      "text/plain": [
       "[0.047619047619047616,\n",
       " 0.10000000000000001,\n",
       " 0.10000000000000001,\n",
       " 0.050000000000000003,\n",
       " 0.0]"
      ]
     },
     "execution_count": 11,
     "metadata": {},
     "output_type": "execute_result"
    }
   ],
   "source": [
    "from sklearn.cross_validation import StratifiedKFold\n",
    "cv = StratifiedKFold(y_train, 5)\n",
    "result = c.cross_validate(data='iris_train', description='cv iris', estimator=lr, scoring=mean_squared_error, cv=cv, async=False)\n",
    "result"
   ]
  },
  {
   "cell_type": "code",
   "execution_count": 12,
   "metadata": {
    "collapsed": false
   },
   "outputs": [
    {
     "name": "stdout",
     "output_type": "stream",
     "text": [
      "0 \"LR for iris\" user 1, failed 0, completed 1, canceled 0\n",
      "1 \"LR for iris\" user 1, failed 0, completed 1, canceled 0\n",
      "2 \"cv iris\" user 1, failed 0, completed 1, canceled 0\n"
     ]
    }
   ],
   "source": [
    "map(print, c.list_tasks());"
   ]
  },
  {
   "cell_type": "code",
   "execution_count": 13,
   "metadata": {
    "collapsed": false
   },
   "outputs": [],
   "source": [
    "from sklearn.tree import DecisionTreeClassifier\n",
    "est1 = DecisionTreeClassifier(max_depth=10)\n",
    "est2 = DecisionTreeClassifier(criterion='entropy', max_depth=2)\n",
    "result = c.stacking(data='iris_train', description='stacking test', \n",
    "                    estimators=[est1, est2], test_data='iris_test', \n",
    "                    estimator=lr, cv=cv, async=False)"
   ]
  },
  {
   "cell_type": "code",
   "execution_count": 14,
   "metadata": {
    "collapsed": false
   },
   "outputs": [
    {
     "data": {
      "text/plain": [
       "0.02"
      ]
     },
     "execution_count": 14,
     "metadata": {},
     "output_type": "execute_result"
    }
   ],
   "source": [
    "mean_squared_error(y_test, result)"
   ]
  },
  {
   "cell_type": "code",
   "execution_count": 15,
   "metadata": {
    "collapsed": false
   },
   "outputs": [],
   "source": [
    "fail_task_id = c.stacking(data='iris_train', description='failing', \n",
    "                    estimators=[est1, est2], test_data=1, \n",
    "                    estimator=lr, cv=cv)"
   ]
  },
  {
   "cell_type": "code",
   "execution_count": 18,
   "metadata": {
    "collapsed": false
   },
   "outputs": [
    {
     "name": "stdout",
     "output_type": "stream",
     "text": [
      "(0, (33, 'local_worker', \"Error: 'int' object has no attribute '__getitem__'\"))\n",
      "(1, (34, 'local_worker', \"Error: 'int' object has no attribute '__getitem__'\"))\n"
     ]
    }
   ],
   "source": [
    "map(print, c.check_errors());"
   ]
  },
  {
   "cell_type": "code",
   "execution_count": 19,
   "metadata": {
    "collapsed": false
   },
   "outputs": [
    {
     "name": "stdout",
     "output_type": "stream",
     "text": [
      "22 \"failing\" user 1, failed 1, completed 0, canceled 0\n",
      "33 \"failing, phase 2,  estimator 0\" user 0, failed 1, completed 0, canceled 0\n",
      "34 \"failing, phase 2,  estimator 1\" user 0, failed 1, completed 0, canceled 0\n"
     ]
    }
   ],
   "source": [
    "map(print, c.list_tasks(failed=True, auto=None));"
   ]
  },
  {
   "cell_type": "code",
   "execution_count": 21,
   "metadata": {
    "collapsed": false
   },
   "outputs": [
    {
     "data": {
      "text/plain": [
       "<Task id=22, owner=mike>"
      ]
     },
     "execution_count": 21,
     "metadata": {},
     "output_type": "execute_result"
    }
   ],
   "source": [
    "c.get_task(fail_task_id)"
   ]
  },
  {
   "cell_type": "code",
   "execution_count": 22,
   "metadata": {
    "collapsed": true
   },
   "outputs": [],
   "source": [
    "c.cancel_task(fail_task_id)"
   ]
  },
  {
   "cell_type": "code",
   "execution_count": 23,
   "metadata": {
    "collapsed": false
   },
   "outputs": [
    {
     "name": "stdout",
     "output_type": "stream",
     "text": [
      "0 \"LR for iris\" user 1, failed 0, completed 1, canceled 0\n",
      "1 \"LR for iris\" user 1, failed 0, completed 1, canceled 0\n",
      "2 \"cv iris\" user 1, failed 0, completed 1, canceled 0\n",
      "3 \"cv iris, fold 0\" user 0, failed 0, completed 1, canceled 0\n",
      "4 \"cv iris, fold 1\" user 0, failed 0, completed 1, canceled 0\n",
      "5 \"cv iris, fold 2\" user 0, failed 0, completed 1, canceled 0\n",
      "6 \"cv iris, fold 3\" user 0, failed 0, completed 1, canceled 0\n",
      "7 \"cv iris, fold 4\" user 0, failed 0, completed 1, canceled 0\n",
      "8 \"stacking test\" user 1, failed 0, completed 1, canceled 0\n",
      "9 \"stacking test, phase 1, fold 0, estimator 0\" user 0, failed 0, completed 1, canceled 0\n",
      "10 \"stacking test, phase 1, fold 0, estimator 1\" user 0, failed 0, completed 1, canceled 0\n",
      "11 \"stacking test, phase 1, fold 1, estimator 0\" user 0, failed 0, completed 1, canceled 0\n",
      "12 \"stacking test, phase 1, fold 1, estimator 1\" user 0, failed 0, completed 1, canceled 0\n",
      "13 \"stacking test, phase 1, fold 2, estimator 0\" user 0, failed 0, completed 1, canceled 0\n",
      "14 \"stacking test, phase 1, fold 2, estimator 1\" user 0, failed 0, completed 1, canceled 0\n",
      "15 \"stacking test, phase 1, fold 3, estimator 0\" user 0, failed 0, completed 1, canceled 0\n",
      "16 \"stacking test, phase 1, fold 3, estimator 1\" user 0, failed 0, completed 1, canceled 0\n",
      "17 \"stacking test, phase 1, fold 4, estimator 0\" user 0, failed 0, completed 1, canceled 0\n",
      "18 \"stacking test, phase 1, fold 4, estimator 1\" user 0, failed 0, completed 1, canceled 0\n",
      "19 \"stacking test, phase 2,  estimator 0\" user 0, failed 0, completed 1, canceled 0\n",
      "20 \"stacking test, phase 2,  estimator 1\" user 0, failed 0, completed 1, canceled 0\n",
      "21 \"stacking test, phase 3\" user 0, failed 0, completed 1, canceled 0\n",
      "22 \"failing\" user 1, failed 1, completed 0, canceled 1\n",
      "23 \"failing, phase 1, fold 0, estimator 0\" user 0, failed 0, completed 1, canceled 1\n",
      "24 \"failing, phase 1, fold 0, estimator 1\" user 0, failed 0, completed 1, canceled 1\n",
      "25 \"failing, phase 1, fold 1, estimator 0\" user 0, failed 0, completed 1, canceled 1\n",
      "26 \"failing, phase 1, fold 1, estimator 1\" user 0, failed 0, completed 1, canceled 1\n",
      "27 \"failing, phase 1, fold 2, estimator 0\" user 0, failed 0, completed 1, canceled 1\n",
      "28 \"failing, phase 1, fold 2, estimator 1\" user 0, failed 0, completed 1, canceled 1\n",
      "29 \"failing, phase 1, fold 3, estimator 0\" user 0, failed 0, completed 1, canceled 1\n",
      "30 \"failing, phase 1, fold 3, estimator 1\" user 0, failed 0, completed 1, canceled 1\n",
      "31 \"failing, phase 1, fold 4, estimator 0\" user 0, failed 0, completed 1, canceled 1\n",
      "32 \"failing, phase 1, fold 4, estimator 1\" user 0, failed 0, completed 1, canceled 1\n",
      "33 \"failing, phase 2,  estimator 0\" user 0, failed 1, completed 0, canceled 1\n",
      "34 \"failing, phase 2,  estimator 1\" user 0, failed 1, completed 0, canceled 1\n"
     ]
    }
   ],
   "source": [
    "map(print, c.list_tasks(auto=None));"
   ]
  },
  {
   "cell_type": "code",
   "execution_count": 24,
   "metadata": {
    "collapsed": false
   },
   "outputs": [
    {
     "data": {
      "text/plain": [
       "0.02"
      ]
     },
     "execution_count": 24,
     "metadata": {},
     "output_type": "execute_result"
    }
   ],
   "source": [
    "mean_squared_error(y_test, c.collect_task(result))"
   ]
  },
  {
   "cell_type": "code",
   "execution_count": 91,
   "metadata": {
    "collapsed": false
   },
   "outputs": [
    {
     "data": {
      "text/plain": [
       "True"
      ]
     },
     "execution_count": 91,
     "metadata": {},
     "output_type": "execute_result"
    }
   ],
   "source": [
    "b = True\n",
    "a = {'local_worker': 1462919959.84}\n",
    "(len(a) > 0) == b"
   ]
  },
  {
   "cell_type": "code",
   "execution_count": 121,
   "metadata": {
    "collapsed": false
   },
   "outputs": [
    {
     "name": "stdout",
     "output_type": "stream",
     "text": [
      "deque([4, 3, 2, 1])\n"
     ]
    }
   ],
   "source": [
    "from Queue import Queue\n",
    "\n",
    "q = Queue()\n",
    "q.queue.append(1)\n",
    "q.queue.appendleft(2)\n",
    "map(q.queue.appendleft, reversed([4, 3]))\n",
    "print(q.queue)"
   ]
  }
 ],
 "metadata": {
  "kernelspec": {
   "display_name": "Python 2",
   "language": "python",
   "name": "python2"
  },
  "language_info": {
   "codemirror_mode": {
    "name": "ipython",
    "version": 2
   },
   "file_extension": ".py",
   "mimetype": "text/x-python",
   "name": "python",
   "nbconvert_exporter": "python",
   "pygments_lexer": "ipython2",
   "version": "2.7.11"
  }
 },
 "nbformat": 4,
 "nbformat_minor": 0
}
